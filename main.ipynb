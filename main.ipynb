{
 "cells": [
  {
   "cell_type": "markdown",
   "id": "d24e92e9",
   "metadata": {},
   "source": [
    "# Diagnóstico Git/Github \n",
    "## Nicolás Meyer"
   ]
  },
  {
   "cell_type": "markdown",
   "id": "f299a71d",
   "metadata": {},
   "source": [
    "## Los top 10 tweets más retweeted."
   ]
  },
  {
   "cell_type": "markdown",
   "id": "a6587933",
   "metadata": {},
   "source": [
    "Importamos el módulo y la función correspondiente:"
   ]
  },
  {
   "cell_type": "code",
   "execution_count": 2,
   "id": "874ff6f7",
   "metadata": {},
   "outputs": [],
   "source": [
    "from top_retweet import top_10_retweet"
   ]
  },
  {
   "cell_type": "markdown",
   "id": "8ef75374",
   "metadata": {},
   "source": [
    "La función nos retorna una lista de tweets ordenados de mayor a menor de acuerdo a su retweetCount, siendo el máximo largo de esta 10."
   ]
  },
  {
   "cell_type": "code",
   "execution_count": 3,
   "id": "5fd12cfc",
   "metadata": {},
   "outputs": [],
   "source": [
    "top_10_retweet = top_10_retweet(file_name='tweets.json', chunksize=1000, max_amount_chunk=50)"
   ]
  },
  {
   "cell_type": "markdown",
   "id": "45c6691e",
   "metadata": {},
   "source": [
    "Procedemos a mostrar los 10 tweets con mayor retweets. La información que se muestra de estos está limitada, por ejemplo, no se muestra información del usuario. Entre los datos que se muestran podemos encontrar la url, la fecha, el contenido, la id, el número de retweets, likes y de citas."
   ]
  },
  {
   "cell_type": "code",
   "execution_count": 4,
   "id": "9d6ab2ca",
   "metadata": {},
   "outputs": [
    {
     "name": "stdout",
     "output_type": "stream",
     "text": [
      "Tweet n° 1 ( 2797 ) : {'url': 'https://twitter.com/sushant_says/status/1372591661490917377', 'date': Timestamp('2021-03-18 16:52:08+0000', tz='UTC'), 'content': 'I am back #FarmersProtest #FreeAllPoliticalPrisoners', 'id': 1372591661490917377, 'retweetCount': 2797, 'likeCount': 18453, 'quoteCount': 93}\n",
      "- - - - -\n",
      "Tweet n° 2 ( 2074 ) : {'url': 'https://twitter.com/MeghUpdates/status/1371017710700617729', 'date': Timestamp('2021-03-14 08:37:49+0000', tz='UTC'), 'content': \"Rakesh Tikait's Rally in Nandigram reportedly had 600+ people out of which 200 were Reporters and 300 brought from other states \\n\\nLocal #WestBengal attendance was Below 100 \\n\\n#FarmersProtest\", 'id': 1371017710700617729, 'retweetCount': 2074, 'likeCount': 9873, 'quoteCount': 74}\n",
      "- - - - -\n",
      "Tweet n° 3 ( 1906 ) : {'url': 'https://twitter.com/J4SHANBAINS/status/1370526101739511810', 'date': Timestamp('2021-03-13 00:04:20+0000', tz='UTC'), 'content': 'Revolution is a universal language.\\n\\n#FarmersProtest https://t.co/hfSgH02mq6', 'id': 1370526101739511810, 'retweetCount': 1906, 'likeCount': 6822, 'quoteCount': 136}\n",
      "- - - - -\n",
      "Tweet n° 4 ( 1647 ) : {'url': 'https://twitter.com/saahilmenghani/status/1372570866404397059', 'date': Timestamp('2021-03-18 15:29:30+0000', tz='UTC'), 'content': '112 days, #300DeathsAtProtest.\\n\\n#GodiMedia is partially correct. Farmers are returning home. But not as living beings. On an average, 2-3 farmers are daily returning home as dead bodies.\\n\\nWhile TV editors &amp; other TV workers are mocking #FarmersProtest. Will you forget this sin?', 'id': 1372570866404397059, 'retweetCount': 1647, 'likeCount': 3906, 'quoteCount': 70}\n",
      "- - - - -\n",
      "Tweet n° 5 ( 1524 ) : {'url': 'https://twitter.com/saahilmenghani/status/1375317119089266690', 'date': Timestamp('2021-03-26 05:22:08+0000', tz='UTC'), 'content': \"#BharatBandh's impact visible in Andhra Pradesh. Shops, transportation &amp; other services shut.\\n\\n#आज_भारत_बंद_है to mark 4 months of #FarmersProtest. https://t.co/qJgM4JCdpH\", 'id': 1375317119089266690, 'retweetCount': 1524, 'likeCount': 3076, 'quoteCount': 80}\n",
      "- - - - -\n",
      "Tweet n° 6 ( 1439 ) : {'url': 'https://twitter.com/MeghUpdates/status/1374021864926842885', 'date': Timestamp('2021-03-22 15:35:15+0000', tz='UTC'), 'content': \"National Highways Authority of India (NHAI) has suffered a Toll Revenue loss of ₹814.4 crore till March 16 on account of #FarmersProtest' in 3 states\\n\\nPunjab : ₹487 cr\\nHaryana : ₹326 cr\\nRajasthan: ₹1.40 cr\", 'id': 1374021864926842885, 'retweetCount': 1439, 'likeCount': 4644, 'quoteCount': 72}\n",
      "- - - - -\n",
      "Tweet n° 7 ( 1387 ) : {'url': 'https://twitter.com/srinivasiyc/status/1371684903943692289', 'date': Timestamp('2021-03-16 04:49:00+0000', tz='UTC'), 'content': \"Dear India,\\n\\nYou Voted for him,\\nNow he is selling everything\\nEven your dreams.\\n\\nWake up before it's too late.\\n\\nStand up with Farmers, Bank Employees, Student's and raise your voice.\\n\\nBecause enough is enough.\\n\\n#BankStrike #FarmersProtest\", 'id': 1371684903943692289, 'retweetCount': 1387, 'likeCount': 2347, 'quoteCount': 41}\n",
      "- - - - -\n",
      "Tweet n° 8 ( 1302 ) : {'url': 'https://twitter.com/Kisanektamorcha/status/1372108567973523459', 'date': Timestamp('2021-03-17 08:52:29+0000', tz='UTC'), 'content': \"'Kisan Ekta Morcha' Official Hashtag Will Be Released at 7:00 AM (IST) From Tomorrow! \\n\\nShare It &amp; Viral It! \\n\\n#FarmersProtest #NoFarmers_NoFood https://t.co/IdG9adNIAC\", 'id': 1372108567973523459, 'retweetCount': 1302, 'likeCount': 3179, 'quoteCount': 80}\n",
      "- - - - -\n",
      "Tweet n° 9 ( 1283 ) : {'url': 'https://twitter.com/Kisanektamorcha/status/1372529475821338626', 'date': Timestamp('2021-03-18 12:45:02+0000', tz='UTC'), 'content': 'Farmers are not only providing food to nearby slum area people they have even started schools for their children at protest sites like they are going to stay there forever.\\n#FarmersProtest #NoFarmerNoFood #kisanektazindabaad \\n#kisanmajdooriktazindabad \\n#kisanmorchazindabad https://t.co/fVk1zozAcQ', 'id': 1372529475821338626, 'retweetCount': 1283, 'likeCount': 3301, 'quoteCount': 65}\n",
      "- - - - -\n",
      "Tweet n° 10 ( 1220 ) : {'url': 'https://twitter.com/saahilmenghani/status/1376205351058464768', 'date': Timestamp('2021-03-28 16:11:39+0000', tz='UTC'), 'content': '#Breaking\\n\\n👉Zee Owner Subhash Chandra had an event today in Hisar\\n\\n👉100s of Farmers gheroed the venue &amp; forced Chandra to cancel it\\n\\n👉Event organizers apologize to farmers for inviting him\\n\\n👉Zee been peddling hate against farmers. #FarmersProtest giving it back to #GodiMedia https://t.co/r330EJCb3c', 'id': 1376205351058464768, 'retweetCount': 1220, 'likeCount': 2854, 'quoteCount': 58}\n",
      "- - - - -\n"
     ]
    }
   ],
   "source": [
    "for i in range(len(top_10_retweet)):\n",
    "    print(\"Tweet n°\",i + 1, \"(\",top_10_retweet[i]['retweetCount'], \")\",\":\", top_10_retweet[i], end=\"\\n- - - - -\\n\")"
   ]
  },
  {
   "cell_type": "markdown",
   "id": "8e9ad827",
   "metadata": {},
   "source": [
    "## Los top 10 usuarios en función a la cantidad de tweets que emitieron"
   ]
  },
  {
   "cell_type": "markdown",
   "id": "5a6184e4",
   "metadata": {},
   "source": [
    "Importamos el módulo y la función correspondiente:"
   ]
  },
  {
   "cell_type": "code",
   "execution_count": 6,
   "id": "f52ecce1",
   "metadata": {},
   "outputs": [],
   "source": [
    "from top_users import top_10_users"
   ]
  },
  {
   "cell_type": "markdown",
   "id": "c40d3470",
   "metadata": {},
   "source": [
    "La función nos retorna una lista de usuarios ordenados de mayor a menor de acuerdo a su cantidad de tweets, siendo el máximo largo de esta 10."
   ]
  },
  {
   "cell_type": "code",
   "execution_count": 7,
   "id": "3ec30ccf",
   "metadata": {},
   "outputs": [],
   "source": [
    "top_10_users = top_10_users(file_name='tweets.json', chunksize=1000, max_amount_chunk=50)"
   ]
  },
  {
   "cell_type": "markdown",
   "id": "1e4f1dce",
   "metadata": {},
   "source": [
    "Procedemos a mostrar los 10 usuarios con mayor cantidad de tweets. La información que se muestra de estos está limitada, ya que solo se muestra su id, username, url y la descripción de cada usuario respectivo."
   ]
  },
  {
   "cell_type": "code",
   "execution_count": 8,
   "id": "96e2c432",
   "metadata": {},
   "outputs": [
    {
     "name": "stdout",
     "output_type": "stream",
     "text": [
      "User n° 1 ( 939 ) : {'id': 1354532795847073796, 'username': 'rebelpacifist', 'url': 'https://twitter.com/rebelpacifist', 'description': 'I Believe in Human Rights & Civil Rights\\nLove for Humanity 🙏❤️🙏\\nA tweeter who tweets on Twitter!\\nਜੈ ਜਵਾਨ। ਜੈ ਕਿਸਾਨ । ਇਨਕਲਾਬ ਜਿੰਦਾਬਾਦ!', 'count': 939}\n",
      "- - - - -\n",
      "User n° 2 ( 901 ) : {'id': 48085084, 'username': 'rumsomal', 'url': 'https://twitter.com/rumsomal', 'description': 'will follow back ⚡🔥☄', 'count': 901}\n",
      "- - - - -\n",
      "User n° 3 ( 865 ) : {'id': 69027875, 'username': 'tasveersandhu', 'url': 'https://twitter.com/tasveersandhu', 'description': 'I am fighting for my right and if thats khalistan for you than yes i am khalistani ❤️❤️ I WAS I AM and I WILL STAND WITH FARMERS ALWAYS and FOREVER', 'count': 865}\n",
      "- - - - -\n",
      "User n° 4 ( 831 ) : {'id': 1370424170773876736, 'username': 'Monika09213292', 'url': 'https://twitter.com/Monika09213292', 'description': 'If you support Indian Farmers. Please use daily # given by @Kisanektamorcha with your tweets retweets quote tweets reply to someone use everywhere', 'count': 831}\n",
      "- - - - -\n",
      "User n° 5 ( 812 ) : {'id': 1340186972615307264, 'username': 'Jass_k_G', 'url': 'https://twitter.com/Jass_k_G', 'description': 'Here to support farmers', 'count': 812}\n",
      "- - - - -\n",
      "User n° 6 ( 768 ) : {'id': 1334155637412880389, 'username': 'GurmVicky', 'url': 'https://twitter.com/GurmVicky', 'description': 'ਨਾ ਤੱਕੜੀ ਨਾ ਪੰਜੇ ਨਾ ਗਾਂਧੀ ਗੰਜੇ ਦੇ - ਇੱਕ ਦੇ ਫੈਨ ਹਾਂ, ਪੰਜਾਬ ਦੇ ਮਹਾਨ ਯੋਧਿਆਂ, ਦੂਜੇ ਕੇਸਰੀ ਝੰਡੇ ਦੇ', 'count': 768}\n",
      "- - - - -\n",
      "User n° 7 ( 734 ) : {'id': 872085660886282240, 'username': 'Iamjazzie96', 'url': 'https://twitter.com/Iamjazzie96', 'description': '#SidharthShukla Stan💕 @iSidhuMoosewala 🌷 #NeverForget1984 ✊', 'count': 734}\n",
      "- - - - -\n",
      "User n° 8 ( 645 ) : {'id': 1337221335282434049, 'username': 'AhluwaliaA2', 'url': 'https://twitter.com/AhluwaliaA2', 'description': '#IStandWithFarmers🚜🌽', 'count': 645}\n",
      "- - - - -\n",
      "User n° 9 ( 587 ) : {'id': 1357327949066870790, 'username': 'with_kaur', 'url': 'https://twitter.com/with_kaur', 'description': '', 'count': 587}\n",
      "- - - - -\n",
      "User n° 10 ( 558 ) : {'id': 2930682630, 'username': 'shells_n_petals', 'url': 'https://twitter.com/shells_n_petals', 'description': \"Proud mom of little princess.\\n\\nRequesting everyone to support Farmers and fellow Indians against this Facist Govt. \\nSpeak up & act now. Save India's Democracy.\", 'count': 558}\n",
      "- - - - -\n"
     ]
    }
   ],
   "source": [
    "for i in range(len(top_10_users)):\n",
    "    print(\"User n°\",i + 1, \"(\",top_10_users[i]['count'], \")\",\":\", top_10_users[i], end=\"\\n- - - - -\\n\")"
   ]
  },
  {
   "cell_type": "markdown",
   "id": "17a69b47",
   "metadata": {},
   "source": [
    "## Los top 10 días donde hay más tweets."
   ]
  },
  {
   "cell_type": "markdown",
   "id": "621412fd",
   "metadata": {},
   "source": [
    "Importamos el módulo y la función correspondiente:"
   ]
  },
  {
   "cell_type": "code",
   "execution_count": 1,
   "id": "8b7cb526",
   "metadata": {},
   "outputs": [],
   "source": [
    "from top_days import top_10_days"
   ]
  },
  {
   "cell_type": "markdown",
   "id": "34708e23",
   "metadata": {},
   "source": [
    "La función nos retorna una lista de tuplas, donda cada tupla posee la fecha respectiva y la cantidad de tweets realizados ese día. Estas tuplas están ordenadas de mayor a menor de acuerdo al valor entero de la tupla."
   ]
  },
  {
   "cell_type": "code",
   "execution_count": 6,
   "id": "08f067f6",
   "metadata": {},
   "outputs": [
    {
     "ename": "TypeError",
     "evalue": "'list' object is not callable",
     "output_type": "error",
     "traceback": [
      "\u001b[1;31m---------------------------------------------------------------------------\u001b[0m",
      "\u001b[1;31mTypeError\u001b[0m                                 Traceback (most recent call last)",
      "\u001b[1;32m<ipython-input-6-46e795265933>\u001b[0m in \u001b[0;36m<module>\u001b[1;34m\u001b[0m\n\u001b[1;32m----> 1\u001b[1;33m \u001b[0mtop_10_days\u001b[0m \u001b[1;33m=\u001b[0m \u001b[0mtop_10_days\u001b[0m\u001b[1;33m(\u001b[0m\u001b[0mfile_name\u001b[0m\u001b[1;33m=\u001b[0m\u001b[1;34m'tweets.json'\u001b[0m\u001b[1;33m,\u001b[0m \u001b[0mchunksize\u001b[0m\u001b[1;33m=\u001b[0m\u001b[1;36m1000\u001b[0m\u001b[1;33m,\u001b[0m \u001b[0mmax_amount_chunk\u001b[0m\u001b[1;33m=\u001b[0m\u001b[1;36m50\u001b[0m\u001b[1;33m)\u001b[0m\u001b[1;33m\u001b[0m\u001b[1;33m\u001b[0m\u001b[0m\n\u001b[0m",
      "\u001b[1;31mTypeError\u001b[0m: 'list' object is not callable"
     ]
    }
   ],
   "source": [
    "top_10_days = top_10_days(file_name='tweets.json', chunksize=1000, max_amount_chunk=50)"
   ]
  },
  {
   "cell_type": "markdown",
   "id": "22dce7b4",
   "metadata": {},
   "source": [
    "Procedemos a mostrar los 10 días con mayor cantidad de tweets. Puede que no aparezcan 10 días como resultado, esto se debe a que al limitarse la cantidad de tweets que se toman en consideración, no se consideran más días que los que se muestran iniciales. Se puede apreciar de igual modo que los tweets están ordenados por fecha en el dataset, es por tal motivo que a menor cantidad de tweets a leer, menor cantidad de días habrán como resultado."
   ]
  },
  {
   "cell_type": "code",
   "execution_count": 5,
   "id": "ae855cfd",
   "metadata": {},
   "outputs": [
    {
     "name": "stdout",
     "output_type": "stream",
     "text": [
      "Día n° 1 ( 03/27/2021 ) : 2995\n",
      "- - - - -\n",
      "Día n° 2 ( 03/28/2021 ) : 2432\n",
      "- - - - -\n",
      "Día n° 3 ( 03/29/2021 ) : 2118\n",
      "- - - - -\n",
      "Día n° 4 ( 03/26/2021 ) : 1879\n",
      "- - - - -\n",
      "Día n° 5 ( 03/30/2021 ) : 576\n",
      "- - - - -\n"
     ]
    }
   ],
   "source": [
    "for i in range(len(top_10_days)):\n",
    "    print(\"Día n°\",i + 1, \"(\",top_10_days[i][0], \")\",\":\", top_10_days[i][1], end=\"\\n- - - - -\\n\")"
   ]
  },
  {
   "cell_type": "code",
   "execution_count": null,
   "id": "db9681d7",
   "metadata": {},
   "outputs": [],
   "source": []
  }
 ],
 "metadata": {
  "kernelspec": {
   "display_name": "Python 3",
   "language": "python",
   "name": "python3"
  },
  "language_info": {
   "codemirror_mode": {
    "name": "ipython",
    "version": 3
   },
   "file_extension": ".py",
   "mimetype": "text/x-python",
   "name": "python",
   "nbconvert_exporter": "python",
   "pygments_lexer": "ipython3",
   "version": "3.8.8"
  }
 },
 "nbformat": 4,
 "nbformat_minor": 5
}
