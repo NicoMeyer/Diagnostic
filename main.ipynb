{
 "cells": [
  {
   "cell_type": "markdown",
   "id": "d24e92e9",
   "metadata": {},
   "source": [
    "# Diagnóstico Git/Github \n",
    "## Nicolás Meyer"
   ]
  },
  {
   "cell_type": "markdown",
   "id": "69e33d02",
   "metadata": {},
   "source": [
    "Comenzamos con la primera función que se nos pide: encontrar los top 10 tweets con más retweet."
   ]
  },
  {
   "cell_type": "markdown",
   "id": "a6587933",
   "metadata": {},
   "source": [
    "Importamos el módulo y la función correspondiente:"
   ]
  },
  {
   "cell_type": "code",
   "execution_count": 2,
   "id": "874ff6f7",
   "metadata": {},
   "outputs": [],
   "source": [
    "from top_retweet import top_10_retweet"
   ]
  },
  {
   "cell_type": "markdown",
   "id": "8ef75374",
   "metadata": {},
   "source": [
    "La función nos retorna una lista de tweets ordenados de mayor a menor de acuerdo a su retweetCount, siendo el máximo largo de esta 10."
   ]
  },
  {
   "cell_type": "code",
   "execution_count": 3,
   "id": "5fd12cfc",
   "metadata": {},
   "outputs": [],
   "source": [
    "top_10_retweet = top_10_retweet(file_name='tweets.json', chunksize=1000, max_amount_chunk=50)"
   ]
  },
  {
   "cell_type": "markdown",
   "id": "45c6691e",
   "metadata": {},
   "source": [
    "Procedemos a mostrar los 10 tweets con mayor retweets. La información que se muestra de estos está limitada, por ejemplo, no se muestra información del usuario. Entre los datos que se muestran podemos encontrar la url, la fecha, el contenido, la id, el número de retweets, likes y de citas."
   ]
  },
  {
   "cell_type": "code",
   "execution_count": 4,
   "id": "9d6ab2ca",
   "metadata": {},
   "outputs": [
    {
     "name": "stdout",
     "output_type": "stream",
     "text": [
      "Tweet n° 1 ( 2797 ) : {'url': 'https://twitter.com/sushant_says/status/1372591661490917377', 'date': Timestamp('2021-03-18 16:52:08+0000', tz='UTC'), 'content': 'I am back #FarmersProtest #FreeAllPoliticalPrisoners', 'id': 1372591661490917377, 'retweetCount': 2797, 'likeCount': 18453, 'quoteCount': 93}\n",
      "- - - - -\n",
      "Tweet n° 2 ( 2074 ) : {'url': 'https://twitter.com/MeghUpdates/status/1371017710700617729', 'date': Timestamp('2021-03-14 08:37:49+0000', tz='UTC'), 'content': \"Rakesh Tikait's Rally in Nandigram reportedly had 600+ people out of which 200 were Reporters and 300 brought from other states \\n\\nLocal #WestBengal attendance was Below 100 \\n\\n#FarmersProtest\", 'id': 1371017710700617729, 'retweetCount': 2074, 'likeCount': 9873, 'quoteCount': 74}\n",
      "- - - - -\n",
      "Tweet n° 3 ( 1906 ) : {'url': 'https://twitter.com/J4SHANBAINS/status/1370526101739511810', 'date': Timestamp('2021-03-13 00:04:20+0000', tz='UTC'), 'content': 'Revolution is a universal language.\\n\\n#FarmersProtest https://t.co/hfSgH02mq6', 'id': 1370526101739511810, 'retweetCount': 1906, 'likeCount': 6822, 'quoteCount': 136}\n",
      "- - - - -\n",
      "Tweet n° 4 ( 1647 ) : {'url': 'https://twitter.com/saahilmenghani/status/1372570866404397059', 'date': Timestamp('2021-03-18 15:29:30+0000', tz='UTC'), 'content': '112 days, #300DeathsAtProtest.\\n\\n#GodiMedia is partially correct. Farmers are returning home. But not as living beings. On an average, 2-3 farmers are daily returning home as dead bodies.\\n\\nWhile TV editors &amp; other TV workers are mocking #FarmersProtest. Will you forget this sin?', 'id': 1372570866404397059, 'retweetCount': 1647, 'likeCount': 3906, 'quoteCount': 70}\n",
      "- - - - -\n",
      "Tweet n° 5 ( 1524 ) : {'url': 'https://twitter.com/saahilmenghani/status/1375317119089266690', 'date': Timestamp('2021-03-26 05:22:08+0000', tz='UTC'), 'content': \"#BharatBandh's impact visible in Andhra Pradesh. Shops, transportation &amp; other services shut.\\n\\n#आज_भारत_बंद_है to mark 4 months of #FarmersProtest. https://t.co/qJgM4JCdpH\", 'id': 1375317119089266690, 'retweetCount': 1524, 'likeCount': 3076, 'quoteCount': 80}\n",
      "- - - - -\n",
      "Tweet n° 6 ( 1439 ) : {'url': 'https://twitter.com/MeghUpdates/status/1374021864926842885', 'date': Timestamp('2021-03-22 15:35:15+0000', tz='UTC'), 'content': \"National Highways Authority of India (NHAI) has suffered a Toll Revenue loss of ₹814.4 crore till March 16 on account of #FarmersProtest' in 3 states\\n\\nPunjab : ₹487 cr\\nHaryana : ₹326 cr\\nRajasthan: ₹1.40 cr\", 'id': 1374021864926842885, 'retweetCount': 1439, 'likeCount': 4644, 'quoteCount': 72}\n",
      "- - - - -\n",
      "Tweet n° 7 ( 1387 ) : {'url': 'https://twitter.com/srinivasiyc/status/1371684903943692289', 'date': Timestamp('2021-03-16 04:49:00+0000', tz='UTC'), 'content': \"Dear India,\\n\\nYou Voted for him,\\nNow he is selling everything\\nEven your dreams.\\n\\nWake up before it's too late.\\n\\nStand up with Farmers, Bank Employees, Student's and raise your voice.\\n\\nBecause enough is enough.\\n\\n#BankStrike #FarmersProtest\", 'id': 1371684903943692289, 'retweetCount': 1387, 'likeCount': 2347, 'quoteCount': 41}\n",
      "- - - - -\n",
      "Tweet n° 8 ( 1302 ) : {'url': 'https://twitter.com/Kisanektamorcha/status/1372108567973523459', 'date': Timestamp('2021-03-17 08:52:29+0000', tz='UTC'), 'content': \"'Kisan Ekta Morcha' Official Hashtag Will Be Released at 7:00 AM (IST) From Tomorrow! \\n\\nShare It &amp; Viral It! \\n\\n#FarmersProtest #NoFarmers_NoFood https://t.co/IdG9adNIAC\", 'id': 1372108567973523459, 'retweetCount': 1302, 'likeCount': 3179, 'quoteCount': 80}\n",
      "- - - - -\n",
      "Tweet n° 9 ( 1283 ) : {'url': 'https://twitter.com/Kisanektamorcha/status/1372529475821338626', 'date': Timestamp('2021-03-18 12:45:02+0000', tz='UTC'), 'content': 'Farmers are not only providing food to nearby slum area people they have even started schools for their children at protest sites like they are going to stay there forever.\\n#FarmersProtest #NoFarmerNoFood #kisanektazindabaad \\n#kisanmajdooriktazindabad \\n#kisanmorchazindabad https://t.co/fVk1zozAcQ', 'id': 1372529475821338626, 'retweetCount': 1283, 'likeCount': 3301, 'quoteCount': 65}\n",
      "- - - - -\n",
      "Tweet n° 10 ( 1220 ) : {'url': 'https://twitter.com/saahilmenghani/status/1376205351058464768', 'date': Timestamp('2021-03-28 16:11:39+0000', tz='UTC'), 'content': '#Breaking\\n\\n👉Zee Owner Subhash Chandra had an event today in Hisar\\n\\n👉100s of Farmers gheroed the venue &amp; forced Chandra to cancel it\\n\\n👉Event organizers apologize to farmers for inviting him\\n\\n👉Zee been peddling hate against farmers. #FarmersProtest giving it back to #GodiMedia https://t.co/r330EJCb3c', 'id': 1376205351058464768, 'retweetCount': 1220, 'likeCount': 2854, 'quoteCount': 58}\n",
      "- - - - -\n"
     ]
    }
   ],
   "source": [
    "for i in range(len(top_10_retweet)):\n",
    "    print(\"Tweet n°\",i + 1, \"(\",top_10_retweet[i]['retweetCount'], \")\",\":\", top_10_retweet[i], end=\"\\n- - - - -\\n\")"
   ]
  },
  {
   "cell_type": "code",
   "execution_count": null,
   "id": "03fff6fd",
   "metadata": {},
   "outputs": [],
   "source": []
  }
 ],
 "metadata": {
  "kernelspec": {
   "display_name": "Python 3",
   "language": "python",
   "name": "python3"
  },
  "language_info": {
   "codemirror_mode": {
    "name": "ipython",
    "version": 3
   },
   "file_extension": ".py",
   "mimetype": "text/x-python",
   "name": "python",
   "nbconvert_exporter": "python",
   "pygments_lexer": "ipython3",
   "version": "3.8.8"
  }
 },
 "nbformat": 4,
 "nbformat_minor": 5
}
